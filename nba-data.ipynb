{
 "cells": [
  {
   "cell_type": "code",
   "execution_count": null,
   "id": "e608cb46-227e-4703-ad1b-5ee4f279dd4d",
   "metadata": {},
   "outputs": [],
   "source": [
    "from pyspark.sql import SparkSession\n",
    "spark = SparkSession.builder.getOrCreate()\n",
    "from pyspark.sql.functions import split, when, col, lit, trim"
   ]
  },
  {
   "cell_type": "code",
   "execution_count": 2,
   "id": "8b4b1d9c",
   "metadata": {},
   "outputs": [
    {
     "name": "stderr",
     "output_type": "stream",
     "text": [
      "                                                                                \r"
     ]
    }
   ],
   "source": [
    "# create spark dataframe\n",
    "df = spark.read.option(\"header\",True).csv(\"play_by_play_sample.csv\")"
   ]
  },
  {
   "cell_type": "code",
   "execution_count": 3,
   "id": "a553a4a6",
   "metadata": {},
   "outputs": [],
   "source": [
    "# calculate how much time is left in seconds in the quarter\n",
    "# split pctimestring column into minutes and seconds and add them as columns to the dataframe\n",
    "df = df.withColumn(\"minutes\", split(df[\"pctimestring\"], \":\").getItem(0).cast(\"int\"))\n",
    "df = df.withColumn(\"seconds\", split(df[\"pctimestring\"], \":\").getItem(1).cast(\"int\"))\n",
    "\n",
    "# calculate the total seconds\n",
    "df = df.withColumn(\"seconds_left_in_game\", df[\"minutes\"] * 60 + df[\"seconds\"])\n",
    "# df.show(30,False)"
   ]
  },
  {
   "cell_type": "code",
   "execution_count": 4,
   "id": "cf44b5fc",
   "metadata": {},
   "outputs": [],
   "source": [
    "# only select plays in the last 5 mins of the game, and where a point is scored\n",
    "df = df.where((df.period == 4) & (df.seconds_left_in_game < 300) & (df.scoremargin.isNotNull()) & (df.eventmsgtype.isin (1,3)))\n",
    "# only select needed columns\n",
    "cols = [\"eventmsgtype\",\"eventmsgactiontype\",\"period\",\"seconds_left_in_game\",\"homedescription\",\"visitordescription\", \"player1_id\", \"player1_name\", \"player1_team_abbreviation\", \"score\",\"scoremargin\"]\n",
    "# df.select(cols).show(20,False)"
   ]
  },
  {
   "cell_type": "code",
   "execution_count": 5,
   "id": "f7056a78",
   "metadata": {},
   "outputs": [
    {
     "name": "stderr",
     "output_type": "stream",
     "text": [
      "24/08/12 21:32:28 WARN SparkStringUtils: Truncated the string representation of a plan since it was too large. This behavior can be adjusted by setting 'spark.sql.debug.maxToStringFields'.\n"
     ]
    },
    {
     "name": "stdout",
     "output_type": "stream",
     "text": [
      "+--------+--------+------------+------------------+------+------------+------------+-----------------------------------------------------+------------------+---------------------------------------+-------+-----------+-----------+----------+----------------+---------------+-----------------+---------------------+-------------------------+-----------+----------+---------------+---------------+-----------------+---------------------+-------------------------+-----------+----------+------------+---------------+-----------------+---------------------+-------------------------+--------------------+-------+-------+--------------------+-------------+\n",
      "|game_id |eventnum|eventmsgtype|eventmsgactiontype|period|wctimestring|pctimestring|homedescription                                      |neutraldescription|visitordescription                     |score  |scoremargin|person1type|player1_id|player1_name    |player1_team_id|player1_team_city|player1_team_nickname|player1_team_abbreviation|person2type|player2_id|player2_name   |player2_team_id|player2_team_city|player2_team_nickname|player2_team_abbreviation|person3type|player3_id|player3_name|player3_team_id|player3_team_city|player3_team_nickname|player3_team_abbreviation|video_available_flag|minutes|seconds|seconds_left_in_game|points_scored|\n",
      "+--------+--------+------------+------------------+------+------------+------------+-----------------------------------------------------+------------------+---------------------------------------+-------+-----------+-----------+----------+----------------+---------------+-----------------+---------------------+-------------------------+-----------+----------+---------------+---------------+-----------------+---------------------+-------------------------+-----------+----------+------------+---------------+-----------------+---------------------+-------------------------+--------------------+-------+-------+--------------------+-------------+\n",
      "|29600012|449     |1           |5                 |4     |17:00 PM    |3:32        |NULL                                                 |NULL              |Tisdale  Layup (16 PTS) (Cassell 6 AST)|80 - 87|7          |5.0        |47        |Wayman Tisdale  |1610612756.0   |Phoenix          |Suns                 |PHX                      |5.0        |208       |Sam Cassell    |1610612756.0   |Phoenix          |Suns                 |PHX                      |0.0        |0         |NULL        |NULL           |NULL             |NULL                 |NULL                     |0                   |3      |32     |212                 |2            |\n",
      "|29600012|450     |1           |1                 |4     |17:00 PM    |3:06        |Jones 25' 3PT Jump Shot (11 PTS) (Campbell 4 AST)    |NULL              |NULL                                   |80 - 90|10         |4.0        |224       |Eddie Jones     |1610612747.0   |Los Angeles      |Lakers               |LAL                      |4.0        |922       |Elden Campbell |1610612747.0   |Los Angeles      |Lakers               |LAL                      |0.0        |0         |NULL        |NULL           |NULL             |NULL                 |NULL                     |0                   |3      |6      |186                 |3            |\n",
      "|29600012|454     |1           |1                 |4     |17:01 PM    |2:11        |O'Neal 10' Jump Shot (21 PTS) (Van Exel 8 AST)       |NULL              |NULL                                   |80 - 92|12         |4.0        |406       |Shaquille O'Neal|1610612747.0   |Los Angeles      |Lakers               |LAL                      |4.0        |89        |Nick Van Exel  |1610612747.0   |Los Angeles      |Lakers               |LAL                      |0.0        |0         |NULL        |NULL           |NULL             |NULL                 |NULL                     |0                   |2      |11     |131                 |2            |\n",
      "|29600012|462     |1           |3                 |4     |17:06 PM    |1:34        |NULL                                                 |NULL              |Finley  Hook Shot (11 PTS)             |82 - 92|10         |5.0        |714       |Michael Finley  |1610612756.0   |Phoenix          |Suns                 |PHX                      |0.0        |0         |NULL           |NULL           |NULL             |NULL                 |NULL                     |0.0        |0         |NULL        |NULL           |NULL             |NULL                 |NULL                     |0                   |1      |34     |94                  |2            |\n",
      "|29600012|465     |3           |11                |4     |17:06 PM    |1:18        |O'Neal Free Throw 1 of 2 (22 PTS)                    |NULL              |NULL                                   |82 - 93|11         |4.0        |406       |Shaquille O'Neal|1610612747.0   |Los Angeles      |Lakers               |LAL                      |0.0        |0         |NULL           |NULL           |NULL             |NULL                 |NULL                     |0.0        |0         |NULL        |NULL           |NULL             |NULL                 |NULL                     |0                   |1      |18     |78                  |1            |\n",
      "|29600012|466     |3           |12                |4     |17:07 PM    |1:18        |O'Neal Free Throw 2 of 2 (23 PTS)                    |NULL              |NULL                                   |82 - 94|12         |4.0        |406       |Shaquille O'Neal|1610612747.0   |Los Angeles      |Lakers               |LAL                      |0.0        |0         |NULL           |NULL           |NULL             |NULL                 |NULL                     |0.0        |0         |NULL        |NULL           |NULL             |NULL                 |NULL                     |0                   |1      |18     |78                  |1            |\n",
      "|29600012|470     |3           |11                |4     |17:07 PM    |0:46        |Campbell Free Throw 1 of 2 (15 PTS)                  |NULL              |NULL                                   |82 - 95|13         |4.0        |922       |Elden Campbell  |1610612747.0   |Los Angeles      |Lakers               |LAL                      |0.0        |0         |NULL           |NULL           |NULL             |NULL                 |NULL                     |0.0        |0         |NULL        |NULL           |NULL             |NULL                 |NULL                     |0                   |0      |46     |46                  |1            |\n",
      "|29600012|472     |3           |12                |4     |17:08 PM    |0:46        |Campbell Free Throw 2 of 2 (16 PTS)                  |NULL              |NULL                                   |82 - 96|14         |4.0        |922       |Elden Campbell  |1610612747.0   |Los Angeles      |Lakers               |LAL                      |0.0        |0         |NULL           |NULL           |NULL             |NULL                 |NULL                     |0.0        |0         |NULL        |NULL           |NULL             |NULL                 |NULL                     |0                   |0      |46     |46                  |1            |\n",
      "|29600005|394     |1           |1                 |4     |14:38 PM    |4:41        |Hardaway 24' 3PT Jump Shot (20 PTS) (Danilovic 5 AST)|NULL              |NULL                                   |76 - 83|7          |4.0        |896       |Tim Hardaway    |1610612748.0   |Miami            |Heat                 |MIA                      |4.0        |390       |Sasha Danilovic|1610612748.0   |Miami            |Heat                 |MIA                      |0.0        |0         |NULL        |NULL           |NULL             |NULL                 |NULL                     |0                   |4      |41     |281                 |3            |\n",
      "|29600005|403     |3           |12                |4     |14:40 PM    |3:53        |Mourning Free Throw 2 of 2 (24 PTS)                  |NULL              |NULL                                   |76 - 84|8          |4.0        |297       |Alonzo Mourning |1610612748.0   |Miami            |Heat                 |MIA                      |0.0        |0         |NULL           |NULL           |NULL             |NULL                 |NULL                     |0.0        |0         |NULL        |NULL           |NULL             |NULL                 |NULL                     |0                   |3      |53     |233                 |1            |\n",
      "+--------+--------+------------+------------------+------+------------+------------+-----------------------------------------------------+------------------+---------------------------------------+-------+-----------+-----------+----------+----------------+---------------+-----------------+---------------------+-------------------------+-----------+----------+---------------+---------------+-----------------+---------------------+-------------------------+-----------+----------+------------+---------------+-----------------+---------------------+-------------------------+--------------------+-------+-------+--------------------+-------------+\n",
      "only showing top 10 rows\n",
      "\n"
     ]
    }
   ],
   "source": [
    "# define function for 3PT regex\n",
    "# must match exactly \" 3PT \" as if a player has 3 total points it will read \"... (3 PTS) ...\"\n",
    "def regex_3PT(description_col):\n",
    "    return trim(col(description_col)).contains(\" 3PT \")\n",
    "\n",
    "# add points scored column\n",
    "df = df.withColumn(\n",
    "    \"points_scored\",\n",
    "    when(col(\"eventmsgtype\") == 3, lit(1))\n",
    "    .when(\n",
    "        regex_3PT(\"homedescription\") | regex_3PT(\"visitordescription\"), lit(3)\n",
    "    )\n",
    "    .otherwise(lit(2))\n",
    ")\n",
    "\n",
    "df.show(10,False)"
   ]
  },
  {
   "cell_type": "code",
   "execution_count": 25,
   "id": "70dbe118",
   "metadata": {},
   "outputs": [
    {
     "name": "stdout",
     "output_type": "stream",
     "text": [
      "+----------------+-------------+\n",
      "|    player1_name|clutch_points|\n",
      "+----------------+-------------+\n",
      "| Terrell Brandon|           16|\n",
      "|      Tyus Edney|           11|\n",
      "|   Allan Houston|           10|\n",
      "|Damon Stoudamire|            9|\n",
      "|     Jim Jackson|            9|\n",
      "| Calbert Cheaney|            8|\n",
      "|     Karl Malone|            8|\n",
      "|   Carlos Rogers|            8|\n",
      "|   John Stockton|            8|\n",
      "|   Reggie Miller|            7|\n",
      "|  Michael Finley|            7|\n",
      "|   Lamond Murray|            7|\n",
      "|   Clyde Drexler|            7|\n",
      "|  James Robinson|            7|\n",
      "| Sasha Danilovic|            7|\n",
      "| Hakeem Olajuwon|            6|\n",
      "|      Gary Trent|            6|\n",
      "|      Toni Kukoc|            6|\n",
      "|       Ray Allen|            6|\n",
      "|   Avery Johnson|            5|\n",
      "+----------------+-------------+\n",
      "only showing top 20 rows\n",
      "\n"
     ]
    }
   ],
   "source": [
    "df = df.withColumn(\"points_scored\", df.points_scored.cast('int'))\n",
    "clutch_players = df.groupBy(\"player1_name\").sum(\"points_scored\").select(col(\"player1_name\"), col(\"sum(points_scored)\").alias(\"clutch_points\"))\n",
    "# clutch_players = clutch_players.select(col(\"player1_name\"), col(\"sum(points_scored)\").alias(\"clutch_points\"))\n",
    "clutch_players.orderBy(\"clutch_points\", ascending = False).show()"
   ]
  },
  {
   "cell_type": "code",
   "execution_count": null,
   "id": "4016f0bb",
   "metadata": {},
   "outputs": [],
   "source": [
    "# queries for eventmsgtype and eventmsgactiontype mapping\n",
    "df.select(\"eventmsgtype\",\"eventmsgactiontype\").distinct().show()\n",
    "df.where((df.eventmsgtype == 1) & (df.eventmsgactiontype == 8)).show(50,False)"
   ]
  },
  {
   "cell_type": "markdown",
   "id": "9cb2ba3a",
   "metadata": {},
   "source": [
    "## eventmsgtype and eventmsgactiontype mapping\n",
    "eventmsgtype - eventmsgactiontype ----- PLAY \\\n",
    "------ 1 ----------------- 1 --------------- jump shot (2 or 3 pts) \\\n",
    "------ 1 ----------------- 2 --------------- running jump shot \\\n",
    "------ 1 ----------------- 3 --------------- hook shot \\\n",
    "------ 1 ----------------- 4 --------------- tip shot \\\n",
    "------ 1 ----------------- 5 --------------- layup \\\n",
    "------ 1 ----------------- 6 --------------- driving layup \\\n",
    "------ 1 ----------------- 7 --------------- dunk \\\n",
    "------ 1 ----------------- 8 --------------- slam dunk \\\n",
    "------ 3 ----------------- 10 -------------- 1 of 1 FT \\\n",
    "------ 3 ----------------- 11 -------------- 1 of 2 FT \\\n",
    "------ 3 ----------------- 12 -------------- 2 of 2 FT \\\n",
    "------ 3 ----------------- 13 -------------- 1 of 3 FT \\\n",
    "------ 3 ----------------- 14 -------------- 2 of 3 FT \\\n",
    "------ 3 ----------------- 15 -------------- 3 of 3 FT \\\n",
    "------ 3 ----------------- 16 -------------- technical FT"
   ]
  },
  {
   "cell_type": "code",
   "execution_count": 70,
   "id": "3733f615",
   "metadata": {},
   "outputs": [],
   "source": [
    "# create temp view to query dataframe using sql\n",
    "df.createOrReplaceTempView(\"play_by_play\")\n",
    "# query data using SQL\n",
    "query = (\"SELECT eventmsgtype, eventmsgactiontype, period, seconds_left_in_game\"\n",
    "         \", player1_name, player1_team_abbreviation \"\n",
    "         \"FROM play_by_play WHERE period = 4 AND seconds_left_in_game < 300 limit 10;\")\n",
    "result = spark.sql(query)\n",
    "result.show()"
   ]
  }
 ],
 "metadata": {
  "kernelspec": {
   "display_name": "Python 3 (ipykernel)",
   "language": "python",
   "name": "python3"
  },
  "language_info": {
   "codemirror_mode": {
    "name": "ipython",
    "version": 3
   },
   "file_extension": ".py",
   "mimetype": "text/x-python",
   "name": "python",
   "nbconvert_exporter": "python",
   "pygments_lexer": "ipython3",
   "version": "3.8.10"
  }
 },
 "nbformat": 4,
 "nbformat_minor": 5
}
