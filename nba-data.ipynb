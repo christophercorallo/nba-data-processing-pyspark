{
 "cells": [
  {
   "cell_type": "code",
   "execution_count": null,
   "id": "e608cb46-227e-4703-ad1b-5ee4f279dd4d",
   "metadata": {},
   "outputs": [],
   "source": [
    "from pyspark.sql import SparkSession\n",
    "spark = SparkSession.builder.getOrCreate()\n",
    "from pyspark.sql.functions import split, when, col, lit, trim"
   ]
  },
  {
   "cell_type": "code",
   "execution_count": null,
   "id": "8b4b1d9c",
   "metadata": {},
   "outputs": [],
   "source": [
    "# create spark dataframe\n",
    "df = spark.read.option(\"header\",True).csv(\"play_by_play_sample.csv\")"
   ]
  },
  {
   "cell_type": "code",
   "execution_count": 3,
   "id": "a553a4a6",
   "metadata": {},
   "outputs": [],
   "source": [
    "# calculate how much time is left in seconds in the quarter\n",
    "# split pctimestring column into minutes and seconds and add them as columns to the dataframe\n",
    "df = df.withColumn(\"minutes\", split(df[\"pctimestring\"], \":\").getItem(0).cast(\"int\"))\n",
    "df = df.withColumn(\"seconds\", split(df[\"pctimestring\"], \":\").getItem(1).cast(\"int\"))\n",
    "\n",
    "# calculate the total seconds\n",
    "df = df.withColumn(\"seconds_left_in_game\", df[\"minutes\"] * 60 + df[\"seconds\"])\n",
    "# df.show(30,False)"
   ]
  },
  {
   "cell_type": "code",
   "execution_count": 4,
   "id": "cf44b5fc",
   "metadata": {},
   "outputs": [],
   "source": [
    "# only select plays in the last 5 mins of the game, and where a point is scored\n",
    "df = df.where((df.period == 4) & (df.seconds_left_in_game < 300) & (df.scoremargin.isNotNull()) & (df.eventmsgtype.isin (1,3)))\n",
    "# only select needed columns\n",
    "cols = [\"eventmsgtype\",\"eventmsgactiontype\",\"period\",\"seconds_left_in_game\",\"homedescription\",\"visitordescription\", \"player1_id\", \"player1_name\", \"player1_team_abbreviation\", \"score\",\"scoremargin\"]\n",
    "# df.select(cols).show(20,False)"
   ]
  },
  {
   "cell_type": "code",
   "execution_count": null,
   "id": "f7056a78",
   "metadata": {},
   "outputs": [],
   "source": [
    "# define function for 3PT regex\n",
    "# must match exactly \" 3PT \" as if a player has 3 total points it will read \"... (3 PTS) ...\"\n",
    "def regex_3PT(description_col):\n",
    "    return trim(col(description_col)).contains(\" 3PT \")\n",
    "\n",
    "# add points scored column\n",
    "df = df.withColumn(\n",
    "    \"points_scored\",\n",
    "    when(col(\"eventmsgtype\") == 3, lit(1))\n",
    "    .when(\n",
    "        regex_3PT(\"homedescription\") | regex_3PT(\"visitordescription\"), lit(3)\n",
    "    )\n",
    "    .otherwise(lit(2))\n",
    ")\n",
    "\n",
    "df.show(10,False)"
   ]
  },
  {
   "cell_type": "code",
   "execution_count": null,
   "id": "70dbe118",
   "metadata": {},
   "outputs": [],
   "source": [
    "# cast points scored to int\n",
    "df = df.withColumn(\"points_scored\", df.points_scored.cast('int'))\n",
    "# group players by points scored, label column clutch_points\n",
    "clutch_players = df.groupBy(\"player1_name\").sum(\"points_scored\").select(col(\"player1_name\"), col(\"sum(points_scored)\").alias(\"clutch_points\"))\n",
    "# show and sort by descending order\n",
    "clutch_players.orderBy(\"clutch_points\", ascending = False).show()"
   ]
  },
  {
   "cell_type": "code",
   "execution_count": null,
   "id": "4016f0bb",
   "metadata": {},
   "outputs": [],
   "source": [
    "# queries for eventmsgtype and eventmsgactiontype mapping\n",
    "df.select(\"eventmsgtype\",\"eventmsgactiontype\").distinct().show()\n",
    "df.where((df.eventmsgtype == 1) & (df.eventmsgactiontype == 8)).show(50,False)"
   ]
  },
  {
   "cell_type": "markdown",
   "id": "9cb2ba3a",
   "metadata": {},
   "source": [
    "## eventmsgtype and eventmsgactiontype mapping\n",
    "eventmsgtype - eventmsgactiontype ----- PLAY \\\n",
    "------ 1 ----------------- 1 --------------- jump shot (2 or 3 pts) \\\n",
    "------ 1 ----------------- 2 --------------- running jump shot \\\n",
    "------ 1 ----------------- 3 --------------- hook shot \\\n",
    "------ 1 ----------------- 4 --------------- tip shot \\\n",
    "------ 1 ----------------- 5 --------------- layup \\\n",
    "------ 1 ----------------- 6 --------------- driving layup \\\n",
    "------ 1 ----------------- 7 --------------- dunk \\\n",
    "------ 1 ----------------- 8 --------------- slam dunk \\\n",
    "------ 3 ----------------- 10 -------------- 1 of 1 FT \\\n",
    "------ 3 ----------------- 11 -------------- 1 of 2 FT \\\n",
    "------ 3 ----------------- 12 -------------- 2 of 2 FT \\\n",
    "------ 3 ----------------- 13 -------------- 1 of 3 FT \\\n",
    "------ 3 ----------------- 14 -------------- 2 of 3 FT \\\n",
    "------ 3 ----------------- 15 -------------- 3 of 3 FT \\\n",
    "------ 3 ----------------- 16 -------------- technical FT"
   ]
  },
  {
   "cell_type": "code",
   "execution_count": 70,
   "id": "3733f615",
   "metadata": {},
   "outputs": [],
   "source": [
    "# create temp view to query dataframe using sql\n",
    "df.createOrReplaceTempView(\"play_by_play\")\n",
    "# query data using SQL\n",
    "query = (\"SELECT eventmsgtype, eventmsgactiontype, period, seconds_left_in_game\"\n",
    "         \", player1_name, player1_team_abbreviation \"\n",
    "         \"FROM play_by_play WHERE period = 4 AND seconds_left_in_game < 300 limit 10;\")\n",
    "result = spark.sql(query)\n",
    "result.show()"
   ]
  }
 ],
 "metadata": {
  "kernelspec": {
   "display_name": "Python 3 (ipykernel)",
   "language": "python",
   "name": "python3"
  },
  "language_info": {
   "codemirror_mode": {
    "name": "ipython",
    "version": 3
   },
   "file_extension": ".py",
   "mimetype": "text/x-python",
   "name": "python",
   "nbconvert_exporter": "python",
   "pygments_lexer": "ipython3",
   "version": "3.8.10"
  }
 },
 "nbformat": 4,
 "nbformat_minor": 5
}
