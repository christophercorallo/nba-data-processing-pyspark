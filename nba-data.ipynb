{
 "cells": [
  {
   "cell_type": "code",
   "execution_count": 15,
   "id": "e608cb46-227e-4703-ad1b-5ee4f279dd4d",
   "metadata": {},
   "outputs": [],
   "source": [
    "from pyspark.sql import SparkSession\n",
    "spark = SparkSession.builder.getOrCreate()\n",
    "from pyspark.sql.functions import split, when, col, lit, trim"
   ]
  },
  {
   "cell_type": "code",
   "execution_count": 25,
   "id": "8b4b1d9c",
   "metadata": {},
   "outputs": [],
   "source": [
    "# create spark dataframe\n",
    "df = spark.read.option(\"header\",True).csv(\"play_by_play_sample.csv\")"
   ]
  },
  {
   "cell_type": "code",
   "execution_count": 26,
   "id": "a553a4a6",
   "metadata": {},
   "outputs": [],
   "source": [
    "# calculate how much time is left in seconds in the quarter\n",
    "# split pctimestring column into minutes and seconds and add them as columns to the dataframe\n",
    "df = df.withColumn(\"minutes\", split(df[\"pctimestring\"], \":\").getItem(0).cast(\"int\"))\n",
    "df = df.withColumn(\"seconds\", split(df[\"pctimestring\"], \":\").getItem(1).cast(\"int\"))\n",
    "\n",
    "# calculate the total seconds\n",
    "df = df.withColumn(\"seconds_left_in_game\", df[\"minutes\"] * 60 + df[\"seconds\"])\n",
    "# df.show(30,False)"
   ]
  },
  {
   "cell_type": "code",
   "execution_count": 27,
   "id": "cf44b5fc",
   "metadata": {},
   "outputs": [
    {
     "data": {
      "text/plain": [
       "DataFrame[eventmsgtype: string, eventmsgactiontype: string, period: string, seconds_left_in_game: int, homedescription: string, visitordescription: string, player1_id: string, player1_name: string, player1_team_abbreviation: string, score: string, scoremargin: string]"
      ]
     },
     "execution_count": 27,
     "metadata": {},
     "output_type": "execute_result"
    }
   ],
   "source": [
    "# only select plays in the last 5 mins of the game, and where a point is scored\n",
    "df = df.where((df.period == 4) & (df.seconds_left_in_game < 300) & (df.scoremargin.isNotNull()) & (df.eventmsgtype.isin (1,3)))\n",
    "# only select needed columns\n",
    "cols = [\"eventmsgtype\",\"eventmsgactiontype\",\"period\",\"seconds_left_in_game\",\"homedescription\",\"visitordescription\", \"player1_id\", \"player1_name\", \"player1_team_abbreviation\", \"score\",\"scoremargin\"]\n",
    "df.select(cols) # .show(20,False)"
   ]
  },
  {
   "cell_type": "code",
   "execution_count": 31,
   "id": "f7056a78",
   "metadata": {},
   "outputs": [
    {
     "name": "stdout",
     "output_type": "stream",
     "text": [
      "+--------+--------+------------+------------------+------+------------+------------+-----------------------------------------------------+------------------+-------------------------------------------------+-------+-----------+-----------+----------+----------------+---------------+-----------------+---------------------+-------------------------+-----------+----------+---------------+---------------+-----------------+---------------------+-------------------------+-----------+----------+------------+---------------+-----------------+---------------------+-------------------------+--------------------+-------+-------+--------------------+-------------+\n",
      "|game_id |eventnum|eventmsgtype|eventmsgactiontype|period|wctimestring|pctimestring|homedescription                                      |neutraldescription|visitordescription                               |score  |scoremargin|person1type|player1_id|player1_name    |player1_team_id|player1_team_city|player1_team_nickname|player1_team_abbreviation|person2type|player2_id|player2_name   |player2_team_id|player2_team_city|player2_team_nickname|player2_team_abbreviation|person3type|player3_id|player3_name|player3_team_id|player3_team_city|player3_team_nickname|player3_team_abbreviation|video_available_flag|minutes|seconds|seconds_left_in_game|points_scored|\n",
      "+--------+--------+------------+------------------+------+------------+------------+-----------------------------------------------------+------------------+-------------------------------------------------+-------+-----------+-----------+----------+----------------+---------------+-----------------+---------------------+-------------------------+-----------+----------+---------------+---------------+-----------------+---------------------+-------------------------+-----------+----------+------------+---------------+-----------------+---------------------+-------------------------+--------------------+-------+-------+--------------------+-------------+\n",
      "|29600012|449     |1           |5                 |4     |17:00 PM    |3:32        |NULL                                                 |NULL              |Tisdale  Layup (16 PTS) (Cassell 6 AST)          |80 - 87|7          |5.0        |47        |Wayman Tisdale  |1610612756.0   |Phoenix          |Suns                 |PHX                      |5.0        |208       |Sam Cassell    |1610612756.0   |Phoenix          |Suns                 |PHX                      |0.0        |0         |NULL        |NULL           |NULL             |NULL                 |NULL                     |0                   |3      |32     |212                 |2            |\n",
      "|29600012|450     |1           |1                 |4     |17:00 PM    |3:06        |Jones 25' 3PT Jump Shot (11 PTS) (Campbell 4 AST)    |NULL              |NULL                                             |80 - 90|10         |4.0        |224       |Eddie Jones     |1610612747.0   |Los Angeles      |Lakers               |LAL                      |4.0        |922       |Elden Campbell |1610612747.0   |Los Angeles      |Lakers               |LAL                      |0.0        |0         |NULL        |NULL           |NULL             |NULL                 |NULL                     |0                   |3      |6      |186                 |3            |\n",
      "|29600012|454     |1           |1                 |4     |17:01 PM    |2:11        |O'Neal 10' Jump Shot (21 PTS) (Van Exel 8 AST)       |NULL              |NULL                                             |80 - 92|12         |4.0        |406       |Shaquille O'Neal|1610612747.0   |Los Angeles      |Lakers               |LAL                      |4.0        |89        |Nick Van Exel  |1610612747.0   |Los Angeles      |Lakers               |LAL                      |0.0        |0         |NULL        |NULL           |NULL             |NULL                 |NULL                     |0                   |2      |11     |131                 |2            |\n",
      "|29600012|462     |1           |3                 |4     |17:06 PM    |1:34        |NULL                                                 |NULL              |Finley  Hook Shot (11 PTS)                       |82 - 92|10         |5.0        |714       |Michael Finley  |1610612756.0   |Phoenix          |Suns                 |PHX                      |0.0        |0         |NULL           |NULL           |NULL             |NULL                 |NULL                     |0.0        |0         |NULL        |NULL           |NULL             |NULL                 |NULL                     |0                   |1      |34     |94                  |2            |\n",
      "|29600012|465     |3           |11                |4     |17:06 PM    |1:18        |O'Neal Free Throw 1 of 2 (22 PTS)                    |NULL              |NULL                                             |82 - 93|11         |4.0        |406       |Shaquille O'Neal|1610612747.0   |Los Angeles      |Lakers               |LAL                      |0.0        |0         |NULL           |NULL           |NULL             |NULL                 |NULL                     |0.0        |0         |NULL        |NULL           |NULL             |NULL                 |NULL                     |0                   |1      |18     |78                  |1            |\n",
      "|29600012|466     |3           |12                |4     |17:07 PM    |1:18        |O'Neal Free Throw 2 of 2 (23 PTS)                    |NULL              |NULL                                             |82 - 94|12         |4.0        |406       |Shaquille O'Neal|1610612747.0   |Los Angeles      |Lakers               |LAL                      |0.0        |0         |NULL           |NULL           |NULL             |NULL                 |NULL                     |0.0        |0         |NULL        |NULL           |NULL             |NULL                 |NULL                     |0                   |1      |18     |78                  |1            |\n",
      "|29600012|470     |3           |11                |4     |17:07 PM    |0:46        |Campbell Free Throw 1 of 2 (15 PTS)                  |NULL              |NULL                                             |82 - 95|13         |4.0        |922       |Elden Campbell  |1610612747.0   |Los Angeles      |Lakers               |LAL                      |0.0        |0         |NULL           |NULL           |NULL             |NULL                 |NULL                     |0.0        |0         |NULL        |NULL           |NULL             |NULL                 |NULL                     |0                   |0      |46     |46                  |1            |\n",
      "|29600012|472     |3           |12                |4     |17:08 PM    |0:46        |Campbell Free Throw 2 of 2 (16 PTS)                  |NULL              |NULL                                             |82 - 96|14         |4.0        |922       |Elden Campbell  |1610612747.0   |Los Angeles      |Lakers               |LAL                      |0.0        |0         |NULL           |NULL           |NULL             |NULL                 |NULL                     |0.0        |0         |NULL        |NULL           |NULL             |NULL                 |NULL                     |0                   |0      |46     |46                  |1            |\n",
      "|29600005|394     |1           |1                 |4     |14:38 PM    |4:41        |Hardaway 24' 3PT Jump Shot (20 PTS) (Danilovic 5 AST)|NULL              |NULL                                             |76 - 83|7          |4.0        |896       |Tim Hardaway    |1610612748.0   |Miami            |Heat                 |MIA                      |4.0        |390       |Sasha Danilovic|1610612748.0   |Miami            |Heat                 |MIA                      |0.0        |0         |NULL        |NULL           |NULL             |NULL                 |NULL                     |0                   |4      |41     |281                 |3            |\n",
      "|29600005|403     |3           |12                |4     |14:40 PM    |3:53        |Mourning Free Throw 2 of 2 (24 PTS)                  |NULL              |NULL                                             |76 - 84|8          |4.0        |297       |Alonzo Mourning |1610612748.0   |Miami            |Heat                 |MIA                      |0.0        |0         |NULL           |NULL           |NULL             |NULL                 |NULL                     |0.0        |0         |NULL        |NULL           |NULL             |NULL                 |NULL                     |0                   |3      |53     |233                 |1            |\n",
      "|29600005|406     |1           |1                 |4     |14:42 PM    |3:25        |Brown 13' Jump Shot (3 PTS)                          |NULL              |NULL                                             |76 - 86|10         |4.0        |136       |P.J. Brown      |1610612748.0   |Miami            |Heat                 |MIA                      |0.0        |0         |NULL           |NULL           |NULL             |NULL                 |NULL                     |0.0        |0         |NULL        |NULL           |NULL             |NULL                 |NULL                     |0                   |3      |25     |205                 |2            |\n",
      "|29600005|407     |1           |1                 |4     |14:42 PM    |3:07        |NULL                                                 |NULL              |Norman 24' 3PT Jump Shot (3 PTS) (Blaylock 4 AST)|79 - 86|7          |5.0        |80        |Ken Norman      |1610612737.0   |Atlanta          |Hawks                |ATL                      |5.0        |302       |Mookie Blaylock|1610612737.0   |Atlanta          |Hawks                |ATL                      |0.0        |0         |NULL        |NULL           |NULL             |NULL                 |NULL                     |0                   |3      |7      |187                 |3            |\n",
      "|29600005|424     |1           |6                 |4     |14:47 PM    |1:49        |Danilovic  Driving Layup (12 PTS) (Hardaway 11 AST)  |NULL              |NULL                                             |79 - 88|9          |4.0        |390       |Sasha Danilovic |1610612748.0   |Miami            |Heat                 |MIA                      |4.0        |896       |Tim Hardaway   |1610612748.0   |Miami            |Heat                 |MIA                      |0.0        |0         |NULL        |NULL           |NULL             |NULL                 |NULL                     |0                   |1      |49     |109                 |2            |\n",
      "|29600005|429     |1           |6                 |4     |14:48 PM    |0:56        |Danilovic  Driving Layup (14 PTS) (Hardaway 12 AST)  |NULL              |NULL                                             |79 - 90|11         |4.0        |390       |Sasha Danilovic |1610612748.0   |Miami            |Heat                 |MIA                      |4.0        |896       |Tim Hardaway   |1610612748.0   |Miami            |Heat                 |MIA                      |0.0        |0         |NULL        |NULL           |NULL             |NULL                 |NULL                     |0                   |0      |56     |56                  |2            |\n",
      "|29600005|432     |1           |5                 |4     |14:50 PM    |0:49        |Mourning  Layup (26 PTS) (Danilovic 6 AST)           |NULL              |NULL                                             |79 - 92|13         |4.0        |297       |Alonzo Mourning |1610612748.0   |Miami            |Heat                 |MIA                      |4.0        |390       |Sasha Danilovic|1610612748.0   |Miami            |Heat                 |MIA                      |0.0        |0         |NULL        |NULL           |NULL             |NULL                 |NULL                     |0                   |0      |49     |49                  |2            |\n",
      "|29600005|434     |3           |11                |4     |14:51 PM    |0:39        |NULL                                                 |NULL              |Blaylock Free Throw 1 of 2 (9 PTS)               |80 - 92|12         |5.0        |302       |Mookie Blaylock |1610612737.0   |Atlanta          |Hawks                |ATL                      |0.0        |0         |NULL           |NULL           |NULL             |NULL                 |NULL                     |0.0        |0         |NULL        |NULL           |NULL             |NULL                 |NULL                     |0                   |0      |39     |39                  |1            |\n",
      "|29600005|437     |3           |12                |4     |14:51 PM    |0:39        |NULL                                                 |NULL              |Blaylock Free Throw 2 of 2 (10 PTS)              |81 - 92|11         |5.0        |302       |Mookie Blaylock |1610612737.0   |Atlanta          |Hawks                |ATL                      |0.0        |0         |NULL           |NULL           |NULL             |NULL                 |NULL                     |0.0        |0         |NULL        |NULL           |NULL             |NULL                 |NULL                     |0                   |0      |39     |39                  |1            |\n",
      "|29600005|439     |3           |11                |4     |14:52 PM    |0:34        |Majerle Free Throw 1 of 2 (13 PTS)                   |NULL              |NULL                                             |81 - 93|12         |4.0        |105       |Dan Majerle     |1610612748.0   |Miami            |Heat                 |MIA                      |0.0        |0         |NULL           |NULL           |NULL             |NULL                 |NULL                     |0.0        |0         |NULL        |NULL           |NULL             |NULL                 |NULL                     |0                   |0      |34     |34                  |1            |\n",
      "|29600005|440     |3           |12                |4     |14:52 PM    |0:34        |Majerle Free Throw 2 of 2 (14 PTS)                   |NULL              |NULL                                             |81 - 94|13         |4.0        |105       |Dan Majerle     |1610612748.0   |Miami            |Heat                 |MIA                      |0.0        |0         |NULL           |NULL           |NULL             |NULL                 |NULL                     |0.0        |0         |NULL        |NULL           |NULL             |NULL                 |NULL                     |0                   |0      |34     |34                  |1            |\n",
      "|29600002|427     |1           |1                 |4     |1:46 PM     |4:44        |NULL                                                 |NULL              |Brandon 19' Jump Shot (17 PTS)                   |80 - 69|-11        |5.0        |210       |Terrell Brandon |1610612739.0   |Cleveland        |Cavaliers            |CLE                      |0.0        |0         |NULL           |NULL           |NULL             |NULL                 |NULL                     |0.0        |0         |NULL        |NULL           |NULL             |NULL                 |NULL                     |0                   |4      |44     |284                 |2            |\n",
      "|29600002|434     |3           |11                |4     |1:50 PM     |4:10        |NULL                                                 |NULL              |Mills Free Throw 1 of 2 (12 PTS)                 |81 - 69|-12        |5.0        |168       |Chris Mills     |1610612739.0   |Cleveland        |Cavaliers            |CLE                      |0.0        |0         |NULL           |NULL           |NULL             |NULL                 |NULL                     |0.0        |0         |NULL        |NULL           |NULL             |NULL                 |NULL                     |0                   |4      |10     |250                 |1            |\n",
      "|29600002|437     |3           |12                |4     |1:50 PM     |4:10        |NULL                                                 |NULL              |Mills Free Throw 2 of 2 (13 PTS)                 |82 - 69|-13        |5.0        |168       |Chris Mills     |1610612739.0   |Cleveland        |Cavaliers            |CLE                      |0.0        |0         |NULL           |NULL           |NULL             |NULL                 |NULL                     |0.0        |0         |NULL        |NULL           |NULL             |NULL                 |NULL                     |0                   |4      |10     |250                 |1            |\n",
      "|29600002|447     |1           |1                 |4     |1:52 PM     |2:36        |Reeves 26' 3PT Jump Shot (17 PTS) (Bradley 1 AST)    |NULL              |NULL                                             |82 - 72|-10        |4.0        |234       |Khalid Reeves   |1610612751.0   |New Jersey       |Nets                 |NJN                      |4.0        |762       |Shawn Bradley  |1610612751.0   |New Jersey       |Nets                 |NJN                      |0.0        |0         |NULL        |NULL           |NULL             |NULL                 |NULL                     |0                   |2      |36     |156                 |3            |\n",
      "|29600002|448     |1           |1                 |4     |1:53 PM     |2:11        |NULL                                                 |NULL              |Brandon 15' Jump Shot (19 PTS)                   |84 - 72|-12        |5.0        |210       |Terrell Brandon |1610612739.0   |Cleveland        |Cavaliers            |CLE                      |0.0        |0         |NULL           |NULL           |NULL             |NULL                 |NULL                     |0.0        |0         |NULL        |NULL           |NULL             |NULL                 |NULL                     |0                   |2      |11     |131                 |2            |\n",
      "|29600002|451     |3           |11                |4     |1:54 PM     |1:51        |Gill Free Throw 1 of 2 (19 PTS)                      |NULL              |NULL                                             |84 - 73|-11        |4.0        |383       |Kendall Gill    |1610612751.0   |New Jersey       |Nets                 |NJN                      |0.0        |0         |NULL           |NULL           |NULL             |NULL                 |NULL                     |0.0        |0         |NULL        |NULL           |NULL             |NULL                 |NULL                     |0                   |1      |51     |111                 |1            |\n",
      "|29600002|452     |3           |12                |4     |1:54 PM     |1:51        |Gill Free Throw 2 of 2 (20 PTS)                      |NULL              |NULL                                             |84 - 74|-10        |4.0        |383       |Kendall Gill    |1610612751.0   |New Jersey       |Nets                 |NJN                      |0.0        |0         |NULL           |NULL           |NULL             |NULL                 |NULL                     |0.0        |0         |NULL        |NULL           |NULL             |NULL                 |NULL                     |0                   |1      |51     |111                 |1            |\n",
      "|29600002|453     |1           |1                 |4     |1:54 PM     |1:33        |NULL                                                 |NULL              |Brandon 18' Jump Shot (21 PTS)                   |86 - 74|-12        |5.0        |210       |Terrell Brandon |1610612739.0   |Cleveland        |Cavaliers            |CLE                      |0.0        |0         |NULL           |NULL           |NULL             |NULL                 |NULL                     |0.0        |0         |NULL        |NULL           |NULL             |NULL                 |NULL                     |0                   |1      |33     |93                  |2            |\n",
      "|29600002|455     |3           |11                |4     |1:55 PM     |1:22        |Bradley Free Throw 1 of 2 (9 PTS)                    |NULL              |NULL                                             |86 - 75|-11        |4.0        |762       |Shawn Bradley   |1610612751.0   |New Jersey       |Nets                 |NJN                      |0.0        |0         |NULL           |NULL           |NULL             |NULL                 |NULL                     |0.0        |0         |NULL        |NULL           |NULL             |NULL                 |NULL                     |0                   |1      |22     |82                  |1            |\n",
      "|29600002|458     |1           |1                 |4     |1:56 PM     |1:05        |NULL                                                 |NULL              |Brandon 20' Jump Shot (23 PTS)                   |88 - 75|-13        |5.0        |210       |Terrell Brandon |1610612739.0   |Cleveland        |Cavaliers            |CLE                      |0.0        |0         |NULL           |NULL           |NULL             |NULL                 |NULL                     |0.0        |0         |NULL        |NULL           |NULL             |NULL                 |NULL                     |0                   |1      |5      |65                  |2            |\n",
      "|29600002|461     |1           |5                 |4     |1:56 PM     |0:54        |Gill  Layup (22 PTS)                                 |NULL              |NULL                                             |88 - 77|-11        |4.0        |383       |Kendall Gill    |1610612751.0   |New Jersey       |Nets                 |NJN                      |0.0        |0         |NULL           |NULL           |NULL             |NULL                 |NULL                     |0.0        |0         |NULL        |NULL           |NULL             |NULL                 |NULL                     |0                   |0      |54     |54                  |2            |\n",
      "|29600002|463     |3           |11                |4     |1:56 PM     |0:39        |NULL                                                 |NULL              |Brandon Free Throw 1 of 2 (24 PTS)               |89 - 77|-12        |5.0        |210       |Terrell Brandon |1610612739.0   |Cleveland        |Cavaliers            |CLE                      |0.0        |0         |NULL           |NULL           |NULL             |NULL                 |NULL                     |0.0        |0         |NULL        |NULL           |NULL             |NULL                 |NULL                     |0                   |0      |39     |39                  |1            |\n",
      "|29600002|465     |3           |12                |4     |1:57 PM     |0:39        |NULL                                                 |NULL              |Brandon Free Throw 2 of 2 (25 PTS)               |90 - 77|-13        |5.0        |210       |Terrell Brandon |1610612739.0   |Cleveland        |Cavaliers            |CLE                      |0.0        |0         |NULL           |NULL           |NULL             |NULL                 |NULL                     |0.0        |0         |NULL        |NULL           |NULL             |NULL                 |NULL                     |0                   |0      |39     |39                  |1            |\n",
      "|29600013|385     |1           |1                 |4     |13:36 PM    |4:47        |Sprewell 24' 3PT Jump Shot (27 PTS) (Price 2 AST)    |NULL              |NULL                                             |87 - 79|-8         |4.0        |84        |Latrell Sprewell|1610612744.0   |Golden State     |Warriors             |GSW                      |4.0        |899       |Mark Price     |1610612744.0   |Golden State     |Warriors             |GSW                      |0.0        |0         |NULL        |NULL           |NULL             |NULL                 |NULL                     |0                   |4      |47     |287                 |3            |\n",
      "|29600013|386     |1           |1                 |4     |13:37 PM    |4:26        |NULL                                                 |NULL              |Outlaw 5' Jump Shot (7 PTS)                      |89 - 79|-10        |5.0        |448       |Bo Outlaw       |1610612746.0   |Los Angeles      |Clippers             |LAC                      |0.0        |0         |NULL           |NULL           |NULL             |NULL                 |NULL                     |0.0        |0         |NULL        |NULL           |NULL             |NULL                 |NULL                     |0                   |4      |26     |266                 |2            |\n",
      "|29600013|389     |1           |5                 |4     |13:38 PM    |3:41        |NULL                                                 |NULL              |Vaught  Layup (19 PTS)                           |91 - 79|-12        |5.0        |919       |Loy Vaught      |1610612746.0   |Los Angeles      |Clippers             |LAC                      |0.0        |0         |NULL           |NULL           |NULL             |NULL                 |NULL                     |0.0        |0         |NULL        |NULL           |NULL             |NULL                 |NULL                     |0                   |3      |41     |221                 |2            |\n",
      "|29600013|404     |3           |11                |4     |13:43 PM    |2:10        |Price Free Throw 1 of 2 (16 PTS)                     |NULL              |NULL                                             |91 - 80|-11        |4.0        |899       |Mark Price      |1610612744.0   |Golden State     |Warriors             |GSW                      |0.0        |0         |NULL           |NULL           |NULL             |NULL                 |NULL                     |0.0        |0         |NULL        |NULL           |NULL             |NULL                 |NULL                     |0                   |2      |10     |130                 |1            |\n",
      "|29600013|405     |3           |12                |4     |13:43 PM    |2:10        |Price Free Throw 2 of 2 (17 PTS)                     |NULL              |NULL                                             |91 - 81|-10        |4.0        |899       |Mark Price      |1610612744.0   |Golden State     |Warriors             |GSW                      |0.0        |0         |NULL           |NULL           |NULL             |NULL                 |NULL                     |0.0        |0         |NULL        |NULL           |NULL             |NULL                 |NULL                     |0                   |2      |10     |130                 |1            |\n",
      "|29600013|413     |1           |5                 |4     |13:45 PM    |1:22        |NULL                                                 |NULL              |Murray  Layup (13 PTS)                           |93 - 81|-12        |5.0        |441       |Lamond Murray   |1610612746.0   |Los Angeles      |Clippers             |LAC                      |0.0        |0         |NULL           |NULL           |NULL             |NULL                 |NULL                     |0.0        |0         |NULL        |NULL           |NULL             |NULL                 |NULL                     |0                   |1      |22     |82                  |2            |\n",
      "|29600013|416     |3           |11                |4     |13:46 PM    |1:15        |Sprewell Free Throw 1 of 2 (28 PTS)                  |NULL              |NULL                                             |93 - 82|-11        |4.0        |84        |Latrell Sprewell|1610612744.0   |Golden State     |Warriors             |GSW                      |0.0        |0         |NULL           |NULL           |NULL             |NULL                 |NULL                     |0.0        |0         |NULL        |NULL           |NULL             |NULL                 |NULL                     |0                   |1      |15     |75                  |1            |\n",
      "|29600013|418     |3           |12                |4     |13:46 PM    |1:15        |Sprewell Free Throw 2 of 2 (29 PTS)                  |NULL              |NULL                                             |93 - 83|-10        |4.0        |84        |Latrell Sprewell|1610612744.0   |Golden State     |Warriors             |GSW                      |0.0        |0         |NULL           |NULL           |NULL             |NULL                 |NULL                     |0.0        |0         |NULL        |NULL           |NULL             |NULL                 |NULL                     |0                   |1      |15     |75                  |1            |\n",
      "|29600013|421     |3           |11                |4     |13:47 PM    |1:00        |NULL                                                 |NULL              |Martin Free Throw 1 of 2 (12 PTS)                |94 - 83|-11        |5.0        |239       |Darrick Martin  |1610612746.0   |Los Angeles      |Clippers             |LAC                      |0.0        |0         |NULL           |NULL           |NULL             |NULL                 |NULL                     |0.0        |0         |NULL        |NULL           |NULL             |NULL                 |NULL                     |0                   |1      |0      |60                  |1            |\n",
      "|29600013|422     |3           |12                |4     |13:47 PM    |1:00        |NULL                                                 |NULL              |Martin Free Throw 2 of 2 (13 PTS)                |95 - 83|-12        |5.0        |239       |Darrick Martin  |1610612746.0   |Los Angeles      |Clippers             |LAC                      |0.0        |0         |NULL           |NULL           |NULL             |NULL                 |NULL                     |0.0        |0         |NULL        |NULL           |NULL             |NULL                 |NULL                     |0                   |1      |0      |60                  |1            |\n",
      "|29600013|424     |3           |11                |4     |13:47 PM    |0:56        |Price Free Throw 1 of 2 (18 PTS)                     |NULL              |NULL                                             |95 - 84|-11        |4.0        |899       |Mark Price      |1610612744.0   |Golden State     |Warriors             |GSW                      |0.0        |0         |NULL           |NULL           |NULL             |NULL                 |NULL                     |0.0        |0         |NULL        |NULL           |NULL             |NULL                 |NULL                     |0                   |0      |56     |56                  |1            |\n",
      "|29600013|425     |3           |12                |4     |13:48 PM    |0:56        |Price Free Throw 2 of 2 (19 PTS)                     |NULL              |NULL                                             |95 - 85|-10        |4.0        |899       |Mark Price      |1610612744.0   |Golden State     |Warriors             |GSW                      |0.0        |0         |NULL           |NULL           |NULL             |NULL                 |NULL                     |0.0        |0         |NULL        |NULL           |NULL             |NULL                 |NULL                     |0                   |0      |56     |56                  |1            |\n",
      "|29600013|434     |1           |5                 |4     |13:48 PM    |0:26        |NULL                                                 |NULL              |Outlaw  Layup (9 PTS)                            |97 - 85|-12        |5.0        |448       |Bo Outlaw       |1610612746.0   |Los Angeles      |Clippers             |LAC                      |0.0        |0         |NULL           |NULL           |NULL             |NULL                 |NULL                     |0.0        |0         |NULL        |NULL           |NULL             |NULL                 |NULL                     |0                   |0      |26     |26                  |2            |\n",
      "|29600009|403     |3           |11                |4     |13:37 PM    |4:55        |NULL                                                 |NULL              |Edney Free Throw 1 of 2 (6 PTS)                  |72 - 87|15         |5.0        |721       |Tyus Edney      |1610612758.0   |Sacramento       |Kings                |SAC                      |0.0        |0         |NULL           |NULL           |NULL             |NULL                 |NULL                     |0.0        |0         |NULL        |NULL           |NULL             |NULL                 |NULL                     |0                   |4      |55     |295                 |1            |\n",
      "|29600009|404     |3           |12                |4     |13:37 PM    |4:55        |NULL                                                 |NULL              |Edney Free Throw 2 of 2 (7 PTS)                  |73 - 87|14         |5.0        |721       |Tyus Edney      |1610612758.0   |Sacramento       |Kings                |SAC                      |0.0        |0         |NULL           |NULL           |NULL             |NULL                 |NULL                     |0.0        |0         |NULL        |NULL           |NULL             |NULL                 |NULL                     |0                   |4      |55     |295                 |1            |\n",
      "|29600009|409     |1           |1                 |4     |13:40 PM    |4:27        |Elie  3PT Jump Shot (20 PTS) (Drexler 9 AST)         |NULL              |NULL                                             |73 - 90|17         |4.0        |53        |Mario Elie      |1610612745.0   |Houston          |Rockets              |HOU                      |4.0        |17        |Clyde Drexler  |1610612745.0   |Houston          |Rockets              |HOU                      |0.0        |0         |NULL        |NULL           |NULL             |NULL                 |NULL                     |0                   |4      |27     |267                 |3            |\n",
      "|29600009|413     |1           |5                 |4     |13:41 PM    |3:42        |NULL                                                 |NULL              |Edney  Layup (9 PTS)                             |75 - 90|15         |5.0        |721       |Tyus Edney      |1610612758.0   |Sacramento       |Kings                |SAC                      |0.0        |0         |NULL           |NULL           |NULL             |NULL                 |NULL                     |0.0        |0         |NULL        |NULL           |NULL             |NULL                 |NULL                     |0                   |3      |42     |222                 |2            |\n",
      "|29600009|423     |3           |12                |4     |13:42 PM    |3:04        |Maloney Free Throw 2 of 2 (8 PTS)                    |NULL              |NULL                                             |75 - 91|16         |4.0        |1074      |Matt Maloney    |1610612745.0   |Houston          |Rockets              |HOU                      |0.0        |0         |NULL           |NULL           |NULL             |NULL                 |NULL                     |0.0        |0         |NULL        |NULL           |NULL             |NULL                 |NULL                     |0                   |3      |4      |184                 |1            |\n",
      "+--------+--------+------------+------------------+------+------------+------------+-----------------------------------------------------+------------------+-------------------------------------------------+-------+-----------+-----------+----------+----------------+---------------+-----------------+---------------------+-------------------------+-----------+----------+---------------+---------------+-----------------+---------------------+-------------------------+-----------+----------+------------+---------------+-----------------+---------------------+-------------------------+--------------------+-------+-------+--------------------+-------------+\n",
      "only showing top 50 rows\n",
      "\n"
     ]
    }
   ],
   "source": [
    "# define function for 3PT regex\n",
    "# must match exactly \" 3PT \" as if a player has 3 total points it will read \"... (3 PTS) ...\"\n",
    "def regex_3PT(description_col):\n",
    "    return trim(col(description_col)).contains(\" 3PT \")\n",
    "\n",
    "# add points scored column\n",
    "df = df.withColumn(\n",
    "    \"points_scored\",\n",
    "    when(col(\"eventmsgtype\") == 3, lit(1))\n",
    "    .when(\n",
    "        regex_3PT(\"homedescription\") | regex_3PT(\"visitordescription\"), lit(3)\n",
    "    )\n",
    "    .otherwise(lit(2))\n",
    ")\n",
    "\n",
    "df.show(50,False)"
   ]
  },
  {
   "cell_type": "code",
   "execution_count": null,
   "id": "4016f0bb",
   "metadata": {},
   "outputs": [],
   "source": [
    "# queries for eventmsgtype and eventmsgactiontype mapping\n",
    "df.select(\"eventmsgtype\",\"eventmsgactiontype\").distinct().show()\n",
    "df.where((df.eventmsgtype == 1) & (df.eventmsgactiontype == 8)).show(50,False)"
   ]
  },
  {
   "cell_type": "markdown",
   "id": "9cb2ba3a",
   "metadata": {},
   "source": [
    "## eventmsgtype and eventmsgactiontype mapping\n",
    "eventmsgtype - eventmsgactiontype ----- PLAY \\\n",
    "------ 1 ----------------- 1 --------------- jump shot (2 or 3 pts) \\\n",
    "------ 1 ----------------- 2 --------------- running jump shot \\\n",
    "------ 1 ----------------- 3 --------------- hook shot \\\n",
    "------ 1 ----------------- 4 --------------- tip shot \\\n",
    "------ 1 ----------------- 5 --------------- layup \\\n",
    "------ 1 ----------------- 6 --------------- driving layup \\\n",
    "------ 1 ----------------- 7 --------------- dunk \\\n",
    "------ 1 ----------------- 8 --------------- slam dunk \\\n",
    "------ 3 ----------------- 10 -------------- 1 of 1 FT \\\n",
    "------ 3 ----------------- 11 -------------- 1 of 2 FT \\\n",
    "------ 3 ----------------- 12 -------------- 2 of 2 FT \\\n",
    "------ 3 ----------------- 13 -------------- 1 of 3 FT \\\n",
    "------ 3 ----------------- 14 -------------- 2 of 3 FT \\\n",
    "------ 3 ----------------- 15 -------------- 3 of 3 FT \\\n",
    "------ 3 ----------------- 16 -------------- technical FT"
   ]
  },
  {
   "cell_type": "code",
   "execution_count": 70,
   "id": "3733f615",
   "metadata": {},
   "outputs": [],
   "source": [
    "# create temp view to query dataframe using sql\n",
    "df.createOrReplaceTempView(\"play_by_play\")\n",
    "# query data using SQL\n",
    "query = (\"SELECT eventmsgtype, eventmsgactiontype, period, seconds_left_in_game\"\n",
    "         \", player1_name, player1_team_abbreviation \"\n",
    "         \"FROM play_by_play WHERE period = 4 AND seconds_left_in_game < 300 limit 10;\")\n",
    "result = spark.sql(query)\n",
    "result.show()"
   ]
  }
 ],
 "metadata": {
  "kernelspec": {
   "display_name": "Python 3 (ipykernel)",
   "language": "python",
   "name": "python3"
  },
  "language_info": {
   "codemirror_mode": {
    "name": "ipython",
    "version": 3
   },
   "file_extension": ".py",
   "mimetype": "text/x-python",
   "name": "python",
   "nbconvert_exporter": "python",
   "pygments_lexer": "ipython3",
   "version": "3.8.10"
  }
 },
 "nbformat": 4,
 "nbformat_minor": 5
}
